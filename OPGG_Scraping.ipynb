{
 "cells": [
  {
   "cell_type": "code",
   "execution_count": null,
   "id": "49fd8d21",
   "metadata": {},
   "outputs": [],
   "source": []
  },
  {
   "cell_type": "code",
   "execution_count": 9,
   "id": "cd84150f",
   "metadata": {},
   "outputs": [
    {
     "name": "stdout",
     "output_type": "stream",
     "text": [
      "['Notzu', 'itwhu', 'Tokisaki2Kurumi', 'SKTyaxua', 'Ponus', 'UCSC YunJia', 'Synotic', 'DeadIy', 'UF Hao', 'kindo v9', 'Dantepp', 'Yue se zhen mei', 'Snow2', 'Iced Amer1cano', 'Peww', 'Pou Tei Tou', 'Justice Punch', 'Scotch Game', 'HypheNA', 'ReportDeport', 'Scafe', 'Enemies', 'Spirit Mage', 'NODREAM', 'Falta de querer', 'Santa Moon Light', 'San Sheng J1e', 'USC Inferno', 'Rądar', 'GaTe9', 'Si Che', 'Aaron Song', 'Terence Kim', 'Wegmans Cookie', 'no leo lloros', 'Bandit Baby Gugu', 'anishuItra', 'NeverHesltate', 'STRIKER 01', 'BE Matrix', 'Fullscreened', 'SkellyTheKing', 'Poisonguy626', 'oinkpiggies', 'weenie stinky', 'Qube', 'Orz Ørz', '1oo8', 'Cameel', 'Koshercash', 'Fresh', 'Keramon X', 'Leoto', 'Poofu', 'Achraf Hakimi', 'DarkDragon48', 'Nhivia', 'Thappetten', 'Disco Tomato', 'KryRa1', 'ZHUGE LlANG', 'Uparela', 'GG Kyuki', 'GragasBalls', 'Kshuna', 'feogo', 'discharge', 'Moonlightspeed', 'elmot', 'WHY PP HARD 808', 'Proosia', 'Hakai1', 'Avers', 'CXRNXGÈ', 'Aaaaaari', 'Mezoking762A585', 'zhaozhaomumu', 'Neon G Floyd', 'Tian Xia Gui Xin', 'Dacryagogue', 'Ameericle', 'Miraa', 'Mbitious', 'Auto', 'Laceration', 'Levitate1', 'JIW00NG', 'ApcccCN', 'Miraicle', 'WCSM', 'Destantial', 'Turemot', 'Always Against 9', 'Chorla V2', 'Cendi', 'i yú', 'I Shadow I', 'little Aatrox', 'BaneOfHades', 'KUNG PAO COOCHIE']\n"
     ]
    }
   ],
   "source": [
    "import requests\n",
    "from bs4 import BeautifulSoup\n",
    "\n",
    "url = 'https://www.op.gg/leaderboards/tier?page=10'\n",
    "\n",
    "headers = {\n",
    "    'User-Agent': 'Mozilla/5.0 (Windows NT 10.0; Win64; x64; rv:97.0) Gecko/20100101 Firefox/97.0'\n",
    "}\n",
    "\n",
    "response = requests.get(url, headers=headers)\n",
    "\n",
    "if response.status_code == 200:\n",
    "    soup = BeautifulSoup(response.text, 'html.parser')\n",
    "    \n",
    "    # Find the summoner names using the provided tag information\n",
    "    summoner_elements = soup.find_all('strong', class_='summoner-name')\n",
    "\n",
    "    # Extract the summoner names and store them in a list\n",
    "    summoner_names = [element.text.strip() for element in summoner_elements]\n",
    "\n",
    "    # Print the list of summoner names\n",
    "    print(summoner_names)\n",
    "\n",
    "else:\n",
    "    print(f\"Failed to retrieve the webpage. Status code: {response.status_code}\")\n"
   ]
  }
 ],
 "metadata": {
  "kernelspec": {
   "display_name": "Python 3 (ipykernel)",
   "language": "python",
   "name": "python3"
  },
  "language_info": {
   "codemirror_mode": {
    "name": "ipython",
    "version": 3
   },
   "file_extension": ".py",
   "mimetype": "text/x-python",
   "name": "python",
   "nbconvert_exporter": "python",
   "pygments_lexer": "ipython3",
   "version": "3.9.12"
  }
 },
 "nbformat": 4,
 "nbformat_minor": 5
}
